{
 "cells": [
  {
   "cell_type": "code",
   "execution_count": 20,
   "metadata": {
    "collapsed": true
   },
   "outputs": [],
   "source": [
    "from __future__ import division\n",
    "import matplotlib.pyplot as plt\n",
    "import numpy as np\n",
    "import pandas as pd\n",
    "import seaborn as sns\n",
    "from sklearn.linear_model import LogisticRegression\n",
    "from sklearn.metrics import classification_report, confusion_matrix\n",
    "from sklearn.model_selection import train_test_split\n",
    "from sklearn.preprocessing import StandardScaler\n",
    "from sklearn.svm import SVC\n",
    "from sklearn.ensemble import RandomForestClassifier\n"
   ]
  },
  {
   "cell_type": "code",
   "execution_count": 21,
   "metadata": {},
   "outputs": [
    {
     "name": "stdout",
     "output_type": "stream",
     "text": [
      "length of training data 284807\n",
      "length of normal data 284315\n",
      "length of fraud  data 492\n"
     ]
    }
   ],
   "source": [
    "data = pd.read_csv(\"M:/creditcardfraud/creditcard.csv\")\n",
    "print(\"length of training data\",len(data))\n",
    "print(\"length of normal data\",len(data[data[\"Class\"]==0]))\n",
    "print(\"length of fraud  data\",len(data[data[\"Class\"]==1]))"
   ]
  },
  {
   "cell_type": "code",
   "execution_count": 37,
   "metadata": {},
   "outputs": [
    {
     "name": "stdout",
     "output_type": "stream",
     "text": [
      "length of training data\n",
      "199364\n",
      "length of test data\n",
      "85443\n",
      "length of training data 199364\n",
      "length of normal data in TRAINING DATA:  199030\n",
      "length of fraud data in TRAINING DATA:  334\n"
     ]
    }
   ],
   "source": [
    "#DATA PREPARATION FOR CLASSIFIERS\n",
    "def data_prepration(x): # preparing data for training and testing as we are going to use different data\n",
    "    #again and again so make a function\n",
    "    x_features= x.ix[:,x.columns != \"Class\"]\n",
    "    x_labels=x.ix[:,x.columns==\"Class\"]\n",
    "    x_features_train,x_features_test,x_labels_train,x_labels_test = train_test_split(x_features,x_labels,test_size=0.3)\n",
    "    print(\"length of training data\")\n",
    "    print(len(x_features_train))\n",
    "    print(\"length of test data\")\n",
    "    print(len(x_features_test))\n",
    "    return(x_features_train,x_features_test,x_labels_train,x_labels_test)\n",
    "\n",
    "data_train_X,data_test_X,data_train_y,data_test_y=data_prepration(data)\n",
    "\n",
    "#Taking out the normal(training set) data and printing the length of data\n",
    "data_train_X[\"Class\"]= data_train_y[\"Class\"] # combining class with original data\n",
    "data_train = data_train_X.copy() # for naming conevntion\n",
    "print(\"length of training data\",len(data_train))\n",
    "# Now make data set of normal transction from train data\n",
    "normal_data = data_train[data_train[\"Class\"]==0]\n",
    "print(\"length of normal data in TRAINING DATA: \",len(normal_data))\n",
    "fraud_data = data_train[data_train[\"Class\"]==1]\n",
    "print(\"length of fraud data in TRAINING DATA: \",len(fraud_data))"
   ]
  },
  {
   "cell_type": "code",
   "execution_count": 38,
   "metadata": {
    "collapsed": true
   },
   "outputs": [],
   "source": [
    "## first make a model function for modeling with confusion matrix\n",
    "def model(model,features_train,features_test,labels_train,labels_test):\n",
    "    \n",
    "    clf= model\n",
    "    clf.fit(features_train,labels_train.values.ravel())\n",
    "    pred=clf.predict(features_test)\n",
    "    cnf_matrix=confusion_matrix(labels_test,pred)\n",
    "    print(\"the recall for this model is :\",cnf_matrix[1,1]/(cnf_matrix[1,1]+cnf_matrix[1,0]))\n",
    "    rcall = cnf_matrix[1,1]/(cnf_matrix[1,1]+cnf_matrix[1,0])\n",
    "    print(\"recall inside\",rcall)\n",
    "    fig= plt.figure(figsize=(6,3))# to plot the graph\n",
    "    print(\"TP\",cnf_matrix[1,1,]) # no of fraud transaction which are predicted fraud\n",
    "    print(\"TN\",cnf_matrix[0,0]) # no. of normal transaction which are predited normal\n",
    "    print(\"FP\",cnf_matrix[0,1]) # no of normal transaction which are predicted fraud\n",
    "    print(\"FN\",cnf_matrix[1,0]) # no of fraud Transaction which are predicted normal\n",
    "    sns.heatmap(cnf_matrix,cmap=\"coolwarm_r\",annot=True,linewidths=0.5)\n",
    "    plt.title(\"Confusion_matrix\")\n",
    "    plt.xlabel(\"Predicted_class\")\n",
    "    plt.ylabel(\"Real class\")\n",
    "    plt.show()\n",
    "    print(\"\\n----------Classification Report------------------------------------\")\n",
    "    print(classification_report(labels_test,pred))\n",
    "    return rcall"
   ]
  },
  {
   "cell_type": "code",
   "execution_count": 39,
   "metadata": {},
   "outputs": [
    {
     "name": "stderr",
     "output_type": "stream",
     "text": [
      "C:\\ProgramData\\Anaconda3\\lib\\site-packages\\ipykernel_launcher.py:3: FutureWarning: reshape is deprecated and will raise in a subsequent release. Please use .values.reshape(...) instead\n",
      "  This is separate from the ipykernel package so we can avoid doing imports until\n"
     ]
    },
    {
     "data": {
      "text/html": [
       "<div>\n",
       "<style>\n",
       "    .dataframe thead tr:only-child th {\n",
       "        text-align: right;\n",
       "    }\n",
       "\n",
       "    .dataframe thead th {\n",
       "        text-align: left;\n",
       "    }\n",
       "\n",
       "    .dataframe tbody tr th {\n",
       "        vertical-align: top;\n",
       "    }\n",
       "</style>\n",
       "<table border=\"1\" class=\"dataframe\">\n",
       "  <thead>\n",
       "    <tr style=\"text-align: right;\">\n",
       "      <th></th>\n",
       "      <th>Time</th>\n",
       "      <th>V1</th>\n",
       "      <th>V2</th>\n",
       "      <th>V3</th>\n",
       "      <th>V4</th>\n",
       "      <th>V5</th>\n",
       "      <th>V6</th>\n",
       "      <th>V7</th>\n",
       "      <th>V8</th>\n",
       "      <th>V9</th>\n",
       "      <th>...</th>\n",
       "      <th>V20</th>\n",
       "      <th>V21</th>\n",
       "      <th>V22</th>\n",
       "      <th>V23</th>\n",
       "      <th>V24</th>\n",
       "      <th>V25</th>\n",
       "      <th>V26</th>\n",
       "      <th>V27</th>\n",
       "      <th>V28</th>\n",
       "      <th>Normalized Amount</th>\n",
       "    </tr>\n",
       "  </thead>\n",
       "  <tbody>\n",
       "    <tr>\n",
       "      <th>80831</th>\n",
       "      <td>58674.0</td>\n",
       "      <td>-2.230608</td>\n",
       "      <td>0.124439</td>\n",
       "      <td>0.249738</td>\n",
       "      <td>0.550975</td>\n",
       "      <td>1.579199</td>\n",
       "      <td>-1.471185</td>\n",
       "      <td>-0.056041</td>\n",
       "      <td>0.398763</td>\n",
       "      <td>-0.937434</td>\n",
       "      <td>...</td>\n",
       "      <td>-0.145955</td>\n",
       "      <td>0.115037</td>\n",
       "      <td>-0.040765</td>\n",
       "      <td>-0.744308</td>\n",
       "      <td>-0.082192</td>\n",
       "      <td>0.246168</td>\n",
       "      <td>-0.489506</td>\n",
       "      <td>0.028346</td>\n",
       "      <td>-0.230317</td>\n",
       "      <td>-0.369178</td>\n",
       "    </tr>\n",
       "    <tr>\n",
       "      <th>233885</th>\n",
       "      <td>147742.0</td>\n",
       "      <td>1.905952</td>\n",
       "      <td>0.457625</td>\n",
       "      <td>-0.821034</td>\n",
       "      <td>3.609821</td>\n",
       "      <td>0.842123</td>\n",
       "      <td>0.886536</td>\n",
       "      <td>0.028328</td>\n",
       "      <td>0.110363</td>\n",
       "      <td>-1.006059</td>\n",
       "      <td>...</td>\n",
       "      <td>-0.195145</td>\n",
       "      <td>0.103436</td>\n",
       "      <td>0.446952</td>\n",
       "      <td>0.037859</td>\n",
       "      <td>0.298770</td>\n",
       "      <td>0.209640</td>\n",
       "      <td>0.068213</td>\n",
       "      <td>-0.030582</td>\n",
       "      <td>-0.056058</td>\n",
       "      <td>-0.336467</td>\n",
       "    </tr>\n",
       "    <tr>\n",
       "      <th>63548</th>\n",
       "      <td>50768.0</td>\n",
       "      <td>-1.525007</td>\n",
       "      <td>0.609911</td>\n",
       "      <td>1.773562</td>\n",
       "      <td>0.239279</td>\n",
       "      <td>-0.066184</td>\n",
       "      <td>-0.419671</td>\n",
       "      <td>0.150199</td>\n",
       "      <td>0.679649</td>\n",
       "      <td>-0.434021</td>\n",
       "      <td>...</td>\n",
       "      <td>-0.169148</td>\n",
       "      <td>-0.032836</td>\n",
       "      <td>-0.617580</td>\n",
       "      <td>-0.002550</td>\n",
       "      <td>-0.027560</td>\n",
       "      <td>0.202088</td>\n",
       "      <td>-0.658842</td>\n",
       "      <td>-0.075107</td>\n",
       "      <td>-0.058318</td>\n",
       "      <td>-0.173215</td>\n",
       "    </tr>\n",
       "    <tr>\n",
       "      <th>124952</th>\n",
       "      <td>77482.0</td>\n",
       "      <td>-0.671920</td>\n",
       "      <td>1.011022</td>\n",
       "      <td>0.949177</td>\n",
       "      <td>-0.123689</td>\n",
       "      <td>-0.225941</td>\n",
       "      <td>-0.384856</td>\n",
       "      <td>0.329317</td>\n",
       "      <td>0.463999</td>\n",
       "      <td>-0.835672</td>\n",
       "      <td>...</td>\n",
       "      <td>-0.095721</td>\n",
       "      <td>0.112424</td>\n",
       "      <td>0.086694</td>\n",
       "      <td>0.027097</td>\n",
       "      <td>-0.000847</td>\n",
       "      <td>-0.507301</td>\n",
       "      <td>0.153476</td>\n",
       "      <td>-0.026141</td>\n",
       "      <td>0.083601</td>\n",
       "      <td>-0.224178</td>\n",
       "    </tr>\n",
       "    <tr>\n",
       "      <th>195328</th>\n",
       "      <td>131002.0</td>\n",
       "      <td>-5.165474</td>\n",
       "      <td>4.351318</td>\n",
       "      <td>-2.344672</td>\n",
       "      <td>-1.856004</td>\n",
       "      <td>0.945071</td>\n",
       "      <td>4.173336</td>\n",
       "      <td>-3.360075</td>\n",
       "      <td>-11.433756</td>\n",
       "      <td>2.558376</td>\n",
       "      <td>...</td>\n",
       "      <td>-1.659072</td>\n",
       "      <td>11.049811</td>\n",
       "      <td>-3.894376</td>\n",
       "      <td>1.953338</td>\n",
       "      <td>-1.314106</td>\n",
       "      <td>-0.358366</td>\n",
       "      <td>0.336071</td>\n",
       "      <td>1.252588</td>\n",
       "      <td>0.256536</td>\n",
       "      <td>-0.344442</td>\n",
       "    </tr>\n",
       "  </tbody>\n",
       "</table>\n",
       "<p>5 rows × 30 columns</p>\n",
       "</div>"
      ],
      "text/plain": [
       "            Time        V1        V2        V3        V4        V5        V6  \\\n",
       "80831    58674.0 -2.230608  0.124439  0.249738  0.550975  1.579199 -1.471185   \n",
       "233885  147742.0  1.905952  0.457625 -0.821034  3.609821  0.842123  0.886536   \n",
       "63548    50768.0 -1.525007  0.609911  1.773562  0.239279 -0.066184 -0.419671   \n",
       "124952   77482.0 -0.671920  1.011022  0.949177 -0.123689 -0.225941 -0.384856   \n",
       "195328  131002.0 -5.165474  4.351318 -2.344672 -1.856004  0.945071  4.173336   \n",
       "\n",
       "              V7         V8        V9        ...               V20        V21  \\\n",
       "80831  -0.056041   0.398763 -0.937434        ...         -0.145955   0.115037   \n",
       "233885  0.028328   0.110363 -1.006059        ...         -0.195145   0.103436   \n",
       "63548   0.150199   0.679649 -0.434021        ...         -0.169148  -0.032836   \n",
       "124952  0.329317   0.463999 -0.835672        ...         -0.095721   0.112424   \n",
       "195328 -3.360075 -11.433756  2.558376        ...         -1.659072  11.049811   \n",
       "\n",
       "             V22       V23       V24       V25       V26       V27       V28  \\\n",
       "80831  -0.040765 -0.744308 -0.082192  0.246168 -0.489506  0.028346 -0.230317   \n",
       "233885  0.446952  0.037859  0.298770  0.209640  0.068213 -0.030582 -0.056058   \n",
       "63548  -0.617580 -0.002550 -0.027560  0.202088 -0.658842 -0.075107 -0.058318   \n",
       "124952  0.086694  0.027097 -0.000847 -0.507301  0.153476 -0.026141  0.083601   \n",
       "195328 -3.894376  1.953338 -1.314106 -0.358366  0.336071  1.252588  0.256536   \n",
       "\n",
       "        Normalized Amount  \n",
       "80831           -0.369178  \n",
       "233885          -0.336467  \n",
       "63548           -0.173215  \n",
       "124952          -0.224178  \n",
       "195328          -0.344442  \n",
       "\n",
       "[5 rows x 30 columns]"
      ]
     },
     "execution_count": 39,
     "metadata": {},
     "output_type": "execute_result"
    }
   ],
   "source": [
    "\n",
    "#for that we have to standrdize the normal amount and drop the time from it\n",
    "data_test_X[\"Normalized Amount\"] = StandardScaler().fit_transform(data_test_X['Amount'].reshape(-1, 1))\n",
    "data_test_X.drop([\"Amount\"],axis=1,inplace=True)\n",
    "data_test_X.head()"
   ]
  },
  {
   "cell_type": "code",
   "execution_count": 40,
   "metadata": {},
   "outputs": [
    {
     "name": "stdout",
     "output_type": "stream",
     "text": [
      "length of oversampled data is  255810\n",
      "Number of normal transcation in oversampled data 199030\n",
      "No.of fraud transcation 56780\n",
      "Proportion of Normal data in oversampled data is  0.7780383878659943\n",
      "Proportion of fraud data in oversampled data is  0.2219616121340057\n",
      "length of training data"
     ]
    },
    {
     "name": "stderr",
     "output_type": "stream",
     "text": [
      "C:\\ProgramData\\Anaconda3\\lib\\site-packages\\ipykernel_launcher.py:18: DeprecationWarning: \n",
      ".ix is deprecated. Please use\n",
      ".loc for label based indexing or\n",
      ".iloc for positional indexing\n",
      "\n",
      "See the documentation here:\n",
      "http://pandas.pydata.org/pandas-docs/stable/indexing.html#deprecate_ix\n"
     ]
    },
    {
     "name": "stdout",
     "output_type": "stream",
     "text": [
      "\n",
      "199364\n",
      "length of test data\n",
      "85443\n",
      "the recall for this model is : 0.810126582278\n",
      "recall inside 0.810126582278\n",
      "TP 128\n",
      "TN 85282\n",
      "FP 3\n",
      "FN 30\n"
     ]
    },
    {
     "data": {
      "image/png": "[encoded data removed]",
      "text/plain": [
       "<matplotlib.figure.Figure at 0xc631f28>"
      ]
     },
     "metadata": {},
     "output_type": "display_data"
    },
    {
     "name": "stdout",
     "output_type": "stream",
     "text": [
      "\n",
      "----------Classification Report------------------------------------\n",
      "             precision    recall  f1-score   support\n",
      "\n",
      "          0       1.00      1.00      1.00     85285\n",
      "          1       0.98      0.81      0.89       158\n",
      "\n",
      "avg / total       1.00      1.00      1.00     85443\n",
      "\n",
      "length of oversampled data is  289210\n",
      "Number of normal transcation in oversampled data 199030\n",
      "No.of fraud transcation 90180\n",
      "Proportion of Normal data in oversampled data is  0.6881850558417759\n",
      "Proportion of fraud data in oversampled data is  0.31181494415822414\n"
     ]
    },
    {
     "name": "stderr",
     "output_type": "stream",
     "text": [
      "C:\\ProgramData\\Anaconda3\\lib\\site-packages\\ipykernel_launcher.py:18: DeprecationWarning: \n",
      ".ix is deprecated. Please use\n",
      ".loc for label based indexing or\n",
      ".iloc for positional indexing\n",
      "\n",
      "See the documentation here:\n",
      "http://pandas.pydata.org/pandas-docs/stable/indexing.html#deprecate_ix\n"
     ]
    },
    {
     "name": "stdout",
     "output_type": "stream",
     "text": [
      "length of training data\n",
      "199364\n",
      "length of test data\n",
      "85443\n",
      "the recall for this model is : 0.810126582278\n",
      "recall inside 0.810126582278\n",
      "TP 128\n",
      "TN 85282\n",
      "FP 3\n",
      "FN 30\n"
     ]
    },
    {
     "data": {
      "image/png": "[encoded data removed]",
      "text/plain": [
       "<matplotlib.figure.Figure at 0xccdc4a8>"
      ]
     },
     "metadata": {},
     "output_type": "display_data"
    },
    {
     "name": "stdout",
     "output_type": "stream",
     "text": [
      "\n",
      "----------Classification Report------------------------------------\n",
      "             precision    recall  f1-score   support\n",
      "\n",
      "          0       1.00      1.00      1.00     85285\n",
      "          1       0.98      0.81      0.89       158\n",
      "\n",
      "avg / total       1.00      1.00      1.00     85443\n",
      "\n",
      "length of oversampled data is  322610\n",
      "Number of normal transcation in oversampled data 199030\n",
      "No.of fraud transcation 123580\n",
      "Proportion of Normal data in oversampled data is  0.6169368587458541\n",
      "Proportion of fraud data in oversampled data is  0.38306314125414587\n"
     ]
    },
    {
     "name": "stderr",
     "output_type": "stream",
     "text": [
      "C:\\ProgramData\\Anaconda3\\lib\\site-packages\\ipykernel_launcher.py:18: DeprecationWarning: \n",
      ".ix is deprecated. Please use\n",
      ".loc for label based indexing or\n",
      ".iloc for positional indexing\n",
      "\n",
      "See the documentation here:\n",
      "http://pandas.pydata.org/pandas-docs/stable/indexing.html#deprecate_ix\n"
     ]
    },
    {
     "name": "stdout",
     "output_type": "stream",
     "text": [
      "length of training data\n",
      "199364\n",
      "length of test data\n",
      "85443\n",
      "the recall for this model is : 0.803797468354\n",
      "recall inside 0.803797468354\n",
      "TP 127\n",
      "TN 85282\n",
      "FP 3\n",
      "FN 31\n"
     ]
    },
    {
     "data": {
      "image/png": "[encoded data removed]",
      "text/plain": [
       "<matplotlib.figure.Figure at 0xc4fce10>"
      ]
     },
     "metadata": {},
     "output_type": "display_data"
    },
    {
     "name": "stdout",
     "output_type": "stream",
     "text": [
      "\n",
      "----------Classification Report------------------------------------\n",
      "             precision    recall  f1-score   support\n",
      "\n",
      "          0       1.00      1.00      1.00     85285\n",
      "          1       0.98      0.80      0.88       158\n",
      "\n",
      "avg / total       1.00      1.00      1.00     85443\n",
      "\n",
      "length of oversampled data is  356010\n",
      "Number of normal transcation in oversampled data 199030\n",
      "No.of fraud transcation 156980\n",
      "Proportion of Normal data in oversampled data is  0.5590573298502851\n",
      "Proportion of fraud data in oversampled data is  0.4409426701497149\n"
     ]
    },
    {
     "name": "stderr",
     "output_type": "stream",
     "text": [
      "C:\\ProgramData\\Anaconda3\\lib\\site-packages\\ipykernel_launcher.py:18: DeprecationWarning: \n",
      ".ix is deprecated. Please use\n",
      ".loc for label based indexing or\n",
      ".iloc for positional indexing\n",
      "\n",
      "See the documentation here:\n",
      "http://pandas.pydata.org/pandas-docs/stable/indexing.html#deprecate_ix\n"
     ]
    },
    {
     "name": "stdout",
     "output_type": "stream",
     "text": [
      "length of training data\n",
      "199364\n",
      "length of test data\n",
      "85443\n",
      "the recall for this model is : 0.803797468354\n",
      "recall inside 0.803797468354\n",
      "TP 127\n",
      "TN 85282\n",
      "FP 3\n",
      "FN 31\n"
     ]
    },
    {
     "data": {
      "image/png": "[encoded data removed]",
      "text/plain": [
       "<matplotlib.figure.Figure at 0xc4c9b00>"
      ]
     },
     "metadata": {},
     "output_type": "display_data"
    },
    {
     "name": "stdout",
     "output_type": "stream",
     "text": [
      "\n",
      "----------Classification Report------------------------------------\n",
      "             precision    recall  f1-score   support\n",
      "\n",
      "          0       1.00      1.00      1.00     85285\n",
      "          1       0.98      0.80      0.88       158\n",
      "\n",
      "avg / total       1.00      1.00      1.00     85443\n",
      "\n",
      "length of oversampled data is  389410\n",
      "Number of normal transcation in oversampled data 199030\n",
      "No.of fraud transcation 190380\n",
      "Proportion of Normal data in oversampled data is  0.5111065458000565\n",
      "Proportion of fraud data in oversampled data is  0.4888934541999435\n"
     ]
    },
    {
     "name": "stderr",
     "output_type": "stream",
     "text": [
      "C:\\ProgramData\\Anaconda3\\lib\\site-packages\\ipykernel_launcher.py:18: DeprecationWarning: \n",
      ".ix is deprecated. Please use\n",
      ".loc for label based indexing or\n",
      ".iloc for positional indexing\n",
      "\n",
      "See the documentation here:\n",
      "http://pandas.pydata.org/pandas-docs/stable/indexing.html#deprecate_ix\n"
     ]
    },
    {
     "name": "stdout",
     "output_type": "stream",
     "text": [
      "length of training data\n",
      "199364\n",
      "length of test data\n",
      "85443\n",
      "the recall for this model is : 0.803797468354\n",
      "recall inside 0.803797468354\n",
      "TP 127\n",
      "TN 85282\n",
      "FP 3\n",
      "FN 31\n"
     ]
    },
    {
     "data": {
      "image/png": "[encoded data removed]",
      "text/plain": [
       "<matplotlib.figure.Figure at 0x4c925c0>"
      ]
     },
     "metadata": {},
     "output_type": "display_data"
    },
    {
     "name": "stdout",
     "output_type": "stream",
     "text": [
      "\n",
      "----------Classification Report------------------------------------\n",
      "             precision    recall  f1-score   support\n",
      "\n",
      "          0       1.00      1.00      1.00     85285\n",
      "          1       0.98      0.80      0.88       158\n",
      "\n",
      "avg / total       1.00      1.00      1.00     85443\n",
      "\n"
     ]
    }
   ],
   "source": [
    "# OVERSAMPLING THE DATA:\n",
    "points = 170\n",
    "rcall_array=[]\n",
    "prp_array=[]\n",
    "\n",
    "for _ in range(0,5):\n",
    "\n",
    "    for i in range(points):  # the number is choosen by myself on basis of nnumber of fraud transaction\n",
    "        normal_data = normal_data.append(fraud_data)\n",
    "      \n",
    "    os_data = normal_data.copy()\n",
    "    print(\"length of oversampled data is \", len(os_data))\n",
    "    print(\"Number of normal transcation in oversampled data\", len(os_data[os_data[\"Class\"] == 0]))\n",
    "    print(\"No.of fraud transcation\", len(os_data[os_data[\"Class\"] == 1]))\n",
    "    print(\"Proportion of Normal data in oversampled data is \", len(os_data[os_data[\"Class\"] == 0]) / len(os_data))\n",
    "    print(\"Proportion of fraud data in oversampled data is \", len(os_data[os_data[\"Class\"] == 1]) / len(os_data))\n",
    "    prp_array.append((len(os_data[os_data[\"Class\"] == 0]) / len(os_data))*100)\n",
    "    os_data_X = os_data.ix[:, os_data.columns != \"Class\"]\n",
    "    os_data_y = os_data.ix[:, os_data.columns == \"Class\"]\n",
    "    os_train_X,os_test_X,os_train_y,os_test_y=data_prepration(data)\n",
    "    clf= RandomForestClassifier(n_estimators=100)\n",
    "    r=model(clf,os_data_X,data_test_X,os_data_y,data_test_y)\n",
    "    \n",
    "    rcall_array.append(r)\n",
    "    points=100\n",
    "    "
   ]
  },
  {
   "cell_type": "code",
   "execution_count": 41,
   "metadata": {},
   "outputs": [
    {
     "data": {
      "image/png": "[encoded data removed]",
      "text/plain": [
       "<matplotlib.figure.Figure at 0xc62e160>"
      ]
     },
     "metadata": {},
     "output_type": "display_data"
    }
   ],
   "source": [
    "plt.plot(prp_array,rcall_array)\n",
    "plt.show()"
   ]
  },
  {
   "cell_type": "code",
   "execution_count": null,
   "metadata": {
    "collapsed": true
   },
   "outputs": [],
   "source": []
  }
 ],
 "metadata": {
  "kernelspec": {
   "display_name": "Python 3",
   "language": "python",
   "name": "python3"
  },
  "language_info": {
   "codemirror_mode": {
    "name": "ipython",
    "version": 3
   },
   "file_extension": ".py",
   "mimetype": "text/x-python",
   "name": "python",
   "nbconvert_exporter": "python",
   "pygments_lexer": "ipython3",
   "version": "3.6.1"
  }
 },
 "nbformat": 4,
 "nbformat_minor": 2
}
